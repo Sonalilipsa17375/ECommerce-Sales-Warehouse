{
 "cells": [
  {
   "cell_type": "markdown",
   "metadata": {},
   "source": [
    "# <span style='color:magenta; font-weight:bold;'>Exploratory Data Analysis (EDA)</span>\n",
    "\n",
    "In this section, we explore the processed data to:\n",
    "1. Understand the structure and distribution of the data.\n",
    "2. Identify missing or inconsistent values.\n",
    "3. Detect duplicates or outliers.\n",
    "4. Gain insights to guide the data cleaning and transformation process.\n",
    "\n",
    "### Data Sources\n",
    "The datasets used in this analysis were ingested from APIs and external sources, then transformed using Python scripts. The processed data is stored in the `data/processed/` directory and loaded here for exploration.\n",
    "\n",
    "### Steps:\n",
    "- Display the first few rows of each dataset.\n",
    "- Check for missing values and duplicates.\n",
    "- Summarize key statistics for numerical and categorical columns.\n"
   ]
  },
  {
   "cell_type": "markdown",
   "metadata": {},
   "source": [
    "### Import Libraries & Load the Data"
   ]
  },
  {
   "cell_type": "code",
   "execution_count": 1,
   "metadata": {},
   "outputs": [],
   "source": [
    "# Essentials\n",
    "import pandas as pd\n",
    "import numpy as np\n",
    "import os"
   ]
  },
  {
   "cell_type": "code",
   "execution_count": 2,
   "metadata": {},
   "outputs": [],
   "source": [
    "# Load datasets\n",
    "products = pd.read_csv(\"../data/processed/product_dimension.csv\")\n",
    "categories = pd.read_csv(\"../data/processed/category_dimension.csv\")\n",
    "carts = pd.read_csv(\"../data/processed/cart_dimension.csv\", parse_dates=[\"cart_date\"])\n",
    "users = pd.read_csv(\"../data/processed/user_dimension.csv\")\n",
    "sales = pd.read_csv(\"../data/processed/sales_fact_table.csv\")"
   ]
  },
  {
   "cell_type": "markdown",
   "metadata": {},
   "source": [
    "### General EDA function"
   ]
  },
  {
   "cell_type": "code",
   "execution_count": 3,
   "metadata": {},
   "outputs": [],
   "source": [
    "def eda(df):\n",
    "    print(\"-------------------------------TOP 5 RECORDS-----------------------------\")\n",
    "    display(df.head())\n",
    "    \n",
    "    print(\"\\n-------------------------------INFO--------------------------------------\")\n",
    "    display(df.info())\n",
    "    \n",
    "    print(\"\\n-------------------------------Describe----------------------------------\")\n",
    "    display(df.describe())\n",
    "    \n",
    "    print(\"\\n-------------------------------Columns-----------------------------------\")\n",
    "    display(df.columns)\n",
    "    \n",
    "    print(\"\\n----------------------------Missing Values-------------------------------\")\n",
    "    display(df.isnull().sum())\n",
    "    \n",
    "    print(\"\\n--------------------------Shape Of Data---------------------------------\")\n",
    "    display(df.shape)"
   ]
  },
  {
   "cell_type": "markdown",
   "metadata": {},
   "source": [
    "### EDA on Datasets"
   ]
  },
  {
   "cell_type": "code",
   "execution_count": 4,
   "metadata": {},
   "outputs": [
    {
     "name": "stdout",
     "output_type": "stream",
     "text": [
      "=================================Carts Data=================================\n",
      "-------------------------------TOP 5 RECORDS-----------------------------\n"
     ]
    },
    {
     "data": {
      "text/html": [
       "<div>\n",
       "<style scoped>\n",
       "    .dataframe tbody tr th:only-of-type {\n",
       "        vertical-align: middle;\n",
       "    }\n",
       "\n",
       "    .dataframe tbody tr th {\n",
       "        vertical-align: top;\n",
       "    }\n",
       "\n",
       "    .dataframe thead th {\n",
       "        text-align: right;\n",
       "    }\n",
       "</style>\n",
       "<table border=\"1\" class=\"dataframe\">\n",
       "  <thead>\n",
       "    <tr style=\"text-align: right;\">\n",
       "      <th></th>\n",
       "      <th>cart_id</th>\n",
       "      <th>cart_date</th>\n",
       "    </tr>\n",
       "  </thead>\n",
       "  <tbody>\n",
       "    <tr>\n",
       "      <th>0</th>\n",
       "      <td>1</td>\n",
       "      <td>2020-03-02 00:00:00+00:00</td>\n",
       "    </tr>\n",
       "    <tr>\n",
       "      <th>1</th>\n",
       "      <td>2</td>\n",
       "      <td>2020-01-02 00:00:00+00:00</td>\n",
       "    </tr>\n",
       "    <tr>\n",
       "      <th>2</th>\n",
       "      <td>3</td>\n",
       "      <td>2020-03-01 00:00:00+00:00</td>\n",
       "    </tr>\n",
       "    <tr>\n",
       "      <th>3</th>\n",
       "      <td>4</td>\n",
       "      <td>2020-01-01 00:00:00+00:00</td>\n",
       "    </tr>\n",
       "    <tr>\n",
       "      <th>4</th>\n",
       "      <td>5</td>\n",
       "      <td>2020-03-01 00:00:00+00:00</td>\n",
       "    </tr>\n",
       "  </tbody>\n",
       "</table>\n",
       "</div>"
      ],
      "text/plain": [
       "   cart_id                 cart_date\n",
       "0        1 2020-03-02 00:00:00+00:00\n",
       "1        2 2020-01-02 00:00:00+00:00\n",
       "2        3 2020-03-01 00:00:00+00:00\n",
       "3        4 2020-01-01 00:00:00+00:00\n",
       "4        5 2020-03-01 00:00:00+00:00"
      ]
     },
     "metadata": {},
     "output_type": "display_data"
    },
    {
     "name": "stdout",
     "output_type": "stream",
     "text": [
      "\n",
      "-------------------------------INFO--------------------------------------\n",
      "<class 'pandas.core.frame.DataFrame'>\n",
      "RangeIndex: 7 entries, 0 to 6\n",
      "Data columns (total 2 columns):\n",
      " #   Column     Non-Null Count  Dtype              \n",
      "---  ------     --------------  -----              \n",
      " 0   cart_id    7 non-null      int64              \n",
      " 1   cart_date  7 non-null      datetime64[ns, UTC]\n",
      "dtypes: datetime64[ns, UTC](1), int64(1)\n",
      "memory usage: 244.0 bytes\n"
     ]
    },
    {
     "data": {
      "text/plain": [
       "None"
      ]
     },
     "metadata": {},
     "output_type": "display_data"
    },
    {
     "name": "stdout",
     "output_type": "stream",
     "text": [
      "\n",
      "-------------------------------Describe----------------------------------\n"
     ]
    },
    {
     "data": {
      "text/html": [
       "<div>\n",
       "<style scoped>\n",
       "    .dataframe tbody tr th:only-of-type {\n",
       "        vertical-align: middle;\n",
       "    }\n",
       "\n",
       "    .dataframe tbody tr th {\n",
       "        vertical-align: top;\n",
       "    }\n",
       "\n",
       "    .dataframe thead th {\n",
       "        text-align: right;\n",
       "    }\n",
       "</style>\n",
       "<table border=\"1\" class=\"dataframe\">\n",
       "  <thead>\n",
       "    <tr style=\"text-align: right;\">\n",
       "      <th></th>\n",
       "      <th>cart_id</th>\n",
       "    </tr>\n",
       "  </thead>\n",
       "  <tbody>\n",
       "    <tr>\n",
       "      <th>count</th>\n",
       "      <td>7.000000</td>\n",
       "    </tr>\n",
       "    <tr>\n",
       "      <th>mean</th>\n",
       "      <td>4.000000</td>\n",
       "    </tr>\n",
       "    <tr>\n",
       "      <th>std</th>\n",
       "      <td>2.160247</td>\n",
       "    </tr>\n",
       "    <tr>\n",
       "      <th>min</th>\n",
       "      <td>1.000000</td>\n",
       "    </tr>\n",
       "    <tr>\n",
       "      <th>25%</th>\n",
       "      <td>2.500000</td>\n",
       "    </tr>\n",
       "    <tr>\n",
       "      <th>50%</th>\n",
       "      <td>4.000000</td>\n",
       "    </tr>\n",
       "    <tr>\n",
       "      <th>75%</th>\n",
       "      <td>5.500000</td>\n",
       "    </tr>\n",
       "    <tr>\n",
       "      <th>max</th>\n",
       "      <td>7.000000</td>\n",
       "    </tr>\n",
       "  </tbody>\n",
       "</table>\n",
       "</div>"
      ],
      "text/plain": [
       "        cart_id\n",
       "count  7.000000\n",
       "mean   4.000000\n",
       "std    2.160247\n",
       "min    1.000000\n",
       "25%    2.500000\n",
       "50%    4.000000\n",
       "75%    5.500000\n",
       "max    7.000000"
      ]
     },
     "metadata": {},
     "output_type": "display_data"
    },
    {
     "name": "stdout",
     "output_type": "stream",
     "text": [
      "\n",
      "-------------------------------Columns-----------------------------------\n"
     ]
    },
    {
     "data": {
      "text/plain": [
       "Index(['cart_id', 'cart_date'], dtype='object')"
      ]
     },
     "metadata": {},
     "output_type": "display_data"
    },
    {
     "name": "stdout",
     "output_type": "stream",
     "text": [
      "\n",
      "----------------------------Missing Values-------------------------------\n"
     ]
    },
    {
     "data": {
      "text/plain": [
       "cart_id      0\n",
       "cart_date    0\n",
       "dtype: int64"
      ]
     },
     "metadata": {},
     "output_type": "display_data"
    },
    {
     "name": "stdout",
     "output_type": "stream",
     "text": [
      "\n",
      "--------------------------Shape Of Data---------------------------------\n"
     ]
    },
    {
     "data": {
      "text/plain": [
       "(7, 2)"
      ]
     },
     "metadata": {},
     "output_type": "display_data"
    },
    {
     "name": "stdout",
     "output_type": "stream",
     "text": [
      "=================================Products Data=================================\n",
      "-------------------------------TOP 5 RECORDS-----------------------------\n"
     ]
    },
    {
     "data": {
      "text/html": [
       "<div>\n",
       "<style scoped>\n",
       "    .dataframe tbody tr th:only-of-type {\n",
       "        vertical-align: middle;\n",
       "    }\n",
       "\n",
       "    .dataframe tbody tr th {\n",
       "        vertical-align: top;\n",
       "    }\n",
       "\n",
       "    .dataframe thead th {\n",
       "        text-align: right;\n",
       "    }\n",
       "</style>\n",
       "<table border=\"1\" class=\"dataframe\">\n",
       "  <thead>\n",
       "    <tr style=\"text-align: right;\">\n",
       "      <th></th>\n",
       "      <th>product_id</th>\n",
       "      <th>price</th>\n",
       "      <th>product_name</th>\n",
       "      <th>description</th>\n",
       "      <th>image_url</th>\n",
       "    </tr>\n",
       "  </thead>\n",
       "  <tbody>\n",
       "    <tr>\n",
       "      <th>0</th>\n",
       "      <td>1</td>\n",
       "      <td>109.95</td>\n",
       "      <td>Fjallraven - Foldsack No. 1 Backpack, Fits 15 ...</td>\n",
       "      <td>Your perfect pack for everyday use and walks i...</td>\n",
       "      <td>https://fakestoreapi.com/img/81fPKd-2AYL._AC_S...</td>\n",
       "    </tr>\n",
       "    <tr>\n",
       "      <th>1</th>\n",
       "      <td>2</td>\n",
       "      <td>22.30</td>\n",
       "      <td>Mens Casual Premium Slim Fit T-Shirts</td>\n",
       "      <td>Slim-fitting style, contrast raglan long sleev...</td>\n",
       "      <td>https://fakestoreapi.com/img/71-3HjGNDUL._AC_S...</td>\n",
       "    </tr>\n",
       "    <tr>\n",
       "      <th>2</th>\n",
       "      <td>3</td>\n",
       "      <td>55.99</td>\n",
       "      <td>Mens Cotton Jacket</td>\n",
       "      <td>great outerwear jackets for Spring/Autumn/Wint...</td>\n",
       "      <td>https://fakestoreapi.com/img/71li-ujtlUL._AC_U...</td>\n",
       "    </tr>\n",
       "    <tr>\n",
       "      <th>3</th>\n",
       "      <td>4</td>\n",
       "      <td>15.99</td>\n",
       "      <td>Mens Casual Slim Fit</td>\n",
       "      <td>The color could be slightly different between ...</td>\n",
       "      <td>https://fakestoreapi.com/img/71YXzeOuslL._AC_U...</td>\n",
       "    </tr>\n",
       "    <tr>\n",
       "      <th>4</th>\n",
       "      <td>5</td>\n",
       "      <td>695.00</td>\n",
       "      <td>John Hardy Women's Legends Naga Gold &amp; Silver ...</td>\n",
       "      <td>From our Legends Collection, the Naga was insp...</td>\n",
       "      <td>https://fakestoreapi.com/img/71pWzhdJNwL._AC_U...</td>\n",
       "    </tr>\n",
       "  </tbody>\n",
       "</table>\n",
       "</div>"
      ],
      "text/plain": [
       "   product_id   price                                       product_name  \\\n",
       "0           1  109.95  Fjallraven - Foldsack No. 1 Backpack, Fits 15 ...   \n",
       "1           2   22.30             Mens Casual Premium Slim Fit T-Shirts    \n",
       "2           3   55.99                                 Mens Cotton Jacket   \n",
       "3           4   15.99                               Mens Casual Slim Fit   \n",
       "4           5  695.00  John Hardy Women's Legends Naga Gold & Silver ...   \n",
       "\n",
       "                                         description  \\\n",
       "0  Your perfect pack for everyday use and walks i...   \n",
       "1  Slim-fitting style, contrast raglan long sleev...   \n",
       "2  great outerwear jackets for Spring/Autumn/Wint...   \n",
       "3  The color could be slightly different between ...   \n",
       "4  From our Legends Collection, the Naga was insp...   \n",
       "\n",
       "                                           image_url  \n",
       "0  https://fakestoreapi.com/img/81fPKd-2AYL._AC_S...  \n",
       "1  https://fakestoreapi.com/img/71-3HjGNDUL._AC_S...  \n",
       "2  https://fakestoreapi.com/img/71li-ujtlUL._AC_U...  \n",
       "3  https://fakestoreapi.com/img/71YXzeOuslL._AC_U...  \n",
       "4  https://fakestoreapi.com/img/71pWzhdJNwL._AC_U...  "
      ]
     },
     "metadata": {},
     "output_type": "display_data"
    },
    {
     "name": "stdout",
     "output_type": "stream",
     "text": [
      "\n",
      "-------------------------------INFO--------------------------------------\n",
      "<class 'pandas.core.frame.DataFrame'>\n",
      "RangeIndex: 20 entries, 0 to 19\n",
      "Data columns (total 5 columns):\n",
      " #   Column        Non-Null Count  Dtype  \n",
      "---  ------        --------------  -----  \n",
      " 0   product_id    20 non-null     int64  \n",
      " 1   price         20 non-null     float64\n",
      " 2   product_name  20 non-null     object \n",
      " 3   description   20 non-null     object \n",
      " 4   image_url     20 non-null     object \n",
      "dtypes: float64(1), int64(1), object(3)\n",
      "memory usage: 932.0+ bytes\n"
     ]
    },
    {
     "data": {
      "text/plain": [
       "None"
      ]
     },
     "metadata": {},
     "output_type": "display_data"
    },
    {
     "name": "stdout",
     "output_type": "stream",
     "text": [
      "\n",
      "-------------------------------Describe----------------------------------\n"
     ]
    },
    {
     "data": {
      "text/html": [
       "<div>\n",
       "<style scoped>\n",
       "    .dataframe tbody tr th:only-of-type {\n",
       "        vertical-align: middle;\n",
       "    }\n",
       "\n",
       "    .dataframe tbody tr th {\n",
       "        vertical-align: top;\n",
       "    }\n",
       "\n",
       "    .dataframe thead th {\n",
       "        text-align: right;\n",
       "    }\n",
       "</style>\n",
       "<table border=\"1\" class=\"dataframe\">\n",
       "  <thead>\n",
       "    <tr style=\"text-align: right;\">\n",
       "      <th></th>\n",
       "      <th>product_id</th>\n",
       "      <th>price</th>\n",
       "    </tr>\n",
       "  </thead>\n",
       "  <tbody>\n",
       "    <tr>\n",
       "      <th>count</th>\n",
       "      <td>20.00000</td>\n",
       "      <td>20.000000</td>\n",
       "    </tr>\n",
       "    <tr>\n",
       "      <th>mean</th>\n",
       "      <td>10.50000</td>\n",
       "      <td>162.046000</td>\n",
       "    </tr>\n",
       "    <tr>\n",
       "      <th>std</th>\n",
       "      <td>5.91608</td>\n",
       "      <td>272.220532</td>\n",
       "    </tr>\n",
       "    <tr>\n",
       "      <th>min</th>\n",
       "      <td>1.00000</td>\n",
       "      <td>7.950000</td>\n",
       "    </tr>\n",
       "    <tr>\n",
       "      <th>25%</th>\n",
       "      <td>5.75000</td>\n",
       "      <td>15.240000</td>\n",
       "    </tr>\n",
       "    <tr>\n",
       "      <th>50%</th>\n",
       "      <td>10.50000</td>\n",
       "      <td>56.490000</td>\n",
       "    </tr>\n",
       "    <tr>\n",
       "      <th>75%</th>\n",
       "      <td>15.25000</td>\n",
       "      <td>110.962500</td>\n",
       "    </tr>\n",
       "    <tr>\n",
       "      <th>max</th>\n",
       "      <td>20.00000</td>\n",
       "      <td>999.990000</td>\n",
       "    </tr>\n",
       "  </tbody>\n",
       "</table>\n",
       "</div>"
      ],
      "text/plain": [
       "       product_id       price\n",
       "count    20.00000   20.000000\n",
       "mean     10.50000  162.046000\n",
       "std       5.91608  272.220532\n",
       "min       1.00000    7.950000\n",
       "25%       5.75000   15.240000\n",
       "50%      10.50000   56.490000\n",
       "75%      15.25000  110.962500\n",
       "max      20.00000  999.990000"
      ]
     },
     "metadata": {},
     "output_type": "display_data"
    },
    {
     "name": "stdout",
     "output_type": "stream",
     "text": [
      "\n",
      "-------------------------------Columns-----------------------------------\n"
     ]
    },
    {
     "data": {
      "text/plain": [
       "Index(['product_id', 'price', 'product_name', 'description', 'image_url'], dtype='object')"
      ]
     },
     "metadata": {},
     "output_type": "display_data"
    },
    {
     "name": "stdout",
     "output_type": "stream",
     "text": [
      "\n",
      "----------------------------Missing Values-------------------------------\n"
     ]
    },
    {
     "data": {
      "text/plain": [
       "product_id      0\n",
       "price           0\n",
       "product_name    0\n",
       "description     0\n",
       "image_url       0\n",
       "dtype: int64"
      ]
     },
     "metadata": {},
     "output_type": "display_data"
    },
    {
     "name": "stdout",
     "output_type": "stream",
     "text": [
      "\n",
      "--------------------------Shape Of Data---------------------------------\n"
     ]
    },
    {
     "data": {
      "text/plain": [
       "(20, 5)"
      ]
     },
     "metadata": {},
     "output_type": "display_data"
    },
    {
     "name": "stdout",
     "output_type": "stream",
     "text": [
      "=================================Categories=================================\n",
      "-------------------------------TOP 5 RECORDS-----------------------------\n"
     ]
    },
    {
     "data": {
      "text/html": [
       "<div>\n",
       "<style scoped>\n",
       "    .dataframe tbody tr th:only-of-type {\n",
       "        vertical-align: middle;\n",
       "    }\n",
       "\n",
       "    .dataframe tbody tr th {\n",
       "        vertical-align: top;\n",
       "    }\n",
       "\n",
       "    .dataframe thead th {\n",
       "        text-align: right;\n",
       "    }\n",
       "</style>\n",
       "<table border=\"1\" class=\"dataframe\">\n",
       "  <thead>\n",
       "    <tr style=\"text-align: right;\">\n",
       "      <th></th>\n",
       "      <th>category_id</th>\n",
       "      <th>category_name</th>\n",
       "    </tr>\n",
       "  </thead>\n",
       "  <tbody>\n",
       "    <tr>\n",
       "      <th>0</th>\n",
       "      <td>1</td>\n",
       "      <td>electronics</td>\n",
       "    </tr>\n",
       "    <tr>\n",
       "      <th>1</th>\n",
       "      <td>2</td>\n",
       "      <td>jewelery</td>\n",
       "    </tr>\n",
       "    <tr>\n",
       "      <th>2</th>\n",
       "      <td>3</td>\n",
       "      <td>men's clothing</td>\n",
       "    </tr>\n",
       "    <tr>\n",
       "      <th>3</th>\n",
       "      <td>4</td>\n",
       "      <td>women's clothing</td>\n",
       "    </tr>\n",
       "  </tbody>\n",
       "</table>\n",
       "</div>"
      ],
      "text/plain": [
       "   category_id     category_name\n",
       "0            1       electronics\n",
       "1            2          jewelery\n",
       "2            3    men's clothing\n",
       "3            4  women's clothing"
      ]
     },
     "metadata": {},
     "output_type": "display_data"
    },
    {
     "name": "stdout",
     "output_type": "stream",
     "text": [
      "\n",
      "-------------------------------INFO--------------------------------------\n",
      "<class 'pandas.core.frame.DataFrame'>\n",
      "RangeIndex: 4 entries, 0 to 3\n",
      "Data columns (total 2 columns):\n",
      " #   Column         Non-Null Count  Dtype \n",
      "---  ------         --------------  ----- \n",
      " 0   category_id    4 non-null      int64 \n",
      " 1   category_name  4 non-null      object\n",
      "dtypes: int64(1), object(1)\n",
      "memory usage: 196.0+ bytes\n"
     ]
    },
    {
     "data": {
      "text/plain": [
       "None"
      ]
     },
     "metadata": {},
     "output_type": "display_data"
    },
    {
     "name": "stdout",
     "output_type": "stream",
     "text": [
      "\n",
      "-------------------------------Describe----------------------------------\n"
     ]
    },
    {
     "data": {
      "text/html": [
       "<div>\n",
       "<style scoped>\n",
       "    .dataframe tbody tr th:only-of-type {\n",
       "        vertical-align: middle;\n",
       "    }\n",
       "\n",
       "    .dataframe tbody tr th {\n",
       "        vertical-align: top;\n",
       "    }\n",
       "\n",
       "    .dataframe thead th {\n",
       "        text-align: right;\n",
       "    }\n",
       "</style>\n",
       "<table border=\"1\" class=\"dataframe\">\n",
       "  <thead>\n",
       "    <tr style=\"text-align: right;\">\n",
       "      <th></th>\n",
       "      <th>category_id</th>\n",
       "    </tr>\n",
       "  </thead>\n",
       "  <tbody>\n",
       "    <tr>\n",
       "      <th>count</th>\n",
       "      <td>4.000000</td>\n",
       "    </tr>\n",
       "    <tr>\n",
       "      <th>mean</th>\n",
       "      <td>2.500000</td>\n",
       "    </tr>\n",
       "    <tr>\n",
       "      <th>std</th>\n",
       "      <td>1.290994</td>\n",
       "    </tr>\n",
       "    <tr>\n",
       "      <th>min</th>\n",
       "      <td>1.000000</td>\n",
       "    </tr>\n",
       "    <tr>\n",
       "      <th>25%</th>\n",
       "      <td>1.750000</td>\n",
       "    </tr>\n",
       "    <tr>\n",
       "      <th>50%</th>\n",
       "      <td>2.500000</td>\n",
       "    </tr>\n",
       "    <tr>\n",
       "      <th>75%</th>\n",
       "      <td>3.250000</td>\n",
       "    </tr>\n",
       "    <tr>\n",
       "      <th>max</th>\n",
       "      <td>4.000000</td>\n",
       "    </tr>\n",
       "  </tbody>\n",
       "</table>\n",
       "</div>"
      ],
      "text/plain": [
       "       category_id\n",
       "count     4.000000\n",
       "mean      2.500000\n",
       "std       1.290994\n",
       "min       1.000000\n",
       "25%       1.750000\n",
       "50%       2.500000\n",
       "75%       3.250000\n",
       "max       4.000000"
      ]
     },
     "metadata": {},
     "output_type": "display_data"
    },
    {
     "name": "stdout",
     "output_type": "stream",
     "text": [
      "\n",
      "-------------------------------Columns-----------------------------------\n"
     ]
    },
    {
     "data": {
      "text/plain": [
       "Index(['category_id', 'category_name'], dtype='object')"
      ]
     },
     "metadata": {},
     "output_type": "display_data"
    },
    {
     "name": "stdout",
     "output_type": "stream",
     "text": [
      "\n",
      "----------------------------Missing Values-------------------------------\n"
     ]
    },
    {
     "data": {
      "text/plain": [
       "category_id      0\n",
       "category_name    0\n",
       "dtype: int64"
      ]
     },
     "metadata": {},
     "output_type": "display_data"
    },
    {
     "name": "stdout",
     "output_type": "stream",
     "text": [
      "\n",
      "--------------------------Shape Of Data---------------------------------\n"
     ]
    },
    {
     "data": {
      "text/plain": [
       "(4, 2)"
      ]
     },
     "metadata": {},
     "output_type": "display_data"
    },
    {
     "name": "stdout",
     "output_type": "stream",
     "text": [
      "=================================Users Data=================================\n",
      "-------------------------------TOP 5 RECORDS-----------------------------\n"
     ]
    },
    {
     "data": {
      "text/html": [
       "<div>\n",
       "<style scoped>\n",
       "    .dataframe tbody tr th:only-of-type {\n",
       "        vertical-align: middle;\n",
       "    }\n",
       "\n",
       "    .dataframe tbody tr th {\n",
       "        vertical-align: top;\n",
       "    }\n",
       "\n",
       "    .dataframe thead th {\n",
       "        text-align: right;\n",
       "    }\n",
       "</style>\n",
       "<table border=\"1\" class=\"dataframe\">\n",
       "  <thead>\n",
       "    <tr style=\"text-align: right;\">\n",
       "      <th></th>\n",
       "      <th>user_id</th>\n",
       "      <th>email</th>\n",
       "      <th>username</th>\n",
       "      <th>first_name</th>\n",
       "      <th>last_name</th>\n",
       "      <th>phone_num</th>\n",
       "      <th>street</th>\n",
       "      <th>city</th>\n",
       "      <th>zip_code</th>\n",
       "      <th>long</th>\n",
       "      <th>lat</th>\n",
       "    </tr>\n",
       "  </thead>\n",
       "  <tbody>\n",
       "    <tr>\n",
       "      <th>0</th>\n",
       "      <td>1</td>\n",
       "      <td>john@gmail.com</td>\n",
       "      <td>johnd</td>\n",
       "      <td>john</td>\n",
       "      <td>doe</td>\n",
       "      <td>1-570-236-7033</td>\n",
       "      <td>new road</td>\n",
       "      <td>kilcoole</td>\n",
       "      <td>12926-3874</td>\n",
       "      <td>81.1496</td>\n",
       "      <td>-37.3159</td>\n",
       "    </tr>\n",
       "    <tr>\n",
       "      <th>1</th>\n",
       "      <td>2</td>\n",
       "      <td>morrison@gmail.com</td>\n",
       "      <td>mor_2314</td>\n",
       "      <td>david</td>\n",
       "      <td>morrison</td>\n",
       "      <td>1-570-236-7033</td>\n",
       "      <td>Lovers Ln</td>\n",
       "      <td>kilcoole</td>\n",
       "      <td>12926-3874</td>\n",
       "      <td>81.1496</td>\n",
       "      <td>-37.3159</td>\n",
       "    </tr>\n",
       "    <tr>\n",
       "      <th>2</th>\n",
       "      <td>3</td>\n",
       "      <td>kevin@gmail.com</td>\n",
       "      <td>kevinryan</td>\n",
       "      <td>kevin</td>\n",
       "      <td>ryan</td>\n",
       "      <td>1-567-094-1345</td>\n",
       "      <td>Frances Ct</td>\n",
       "      <td>Cullman</td>\n",
       "      <td>29567-1452</td>\n",
       "      <td>-30.1310</td>\n",
       "      <td>40.3467</td>\n",
       "    </tr>\n",
       "    <tr>\n",
       "      <th>3</th>\n",
       "      <td>4</td>\n",
       "      <td>don@gmail.com</td>\n",
       "      <td>donero</td>\n",
       "      <td>don</td>\n",
       "      <td>romer</td>\n",
       "      <td>1-765-789-6734</td>\n",
       "      <td>Hunters Creek Dr</td>\n",
       "      <td>San Antonio</td>\n",
       "      <td>98234-1734</td>\n",
       "      <td>-20.1310</td>\n",
       "      <td>50.3467</td>\n",
       "    </tr>\n",
       "    <tr>\n",
       "      <th>4</th>\n",
       "      <td>5</td>\n",
       "      <td>derek@gmail.com</td>\n",
       "      <td>derek</td>\n",
       "      <td>derek</td>\n",
       "      <td>powell</td>\n",
       "      <td>1-956-001-1945</td>\n",
       "      <td>adams St</td>\n",
       "      <td>san Antonio</td>\n",
       "      <td>80796-1234</td>\n",
       "      <td>-40.1310</td>\n",
       "      <td>40.3467</td>\n",
       "    </tr>\n",
       "  </tbody>\n",
       "</table>\n",
       "</div>"
      ],
      "text/plain": [
       "   user_id               email   username first_name last_name  \\\n",
       "0        1      john@gmail.com      johnd       john       doe   \n",
       "1        2  morrison@gmail.com   mor_2314      david  morrison   \n",
       "2        3     kevin@gmail.com  kevinryan      kevin      ryan   \n",
       "3        4       don@gmail.com     donero        don     romer   \n",
       "4        5     derek@gmail.com      derek      derek    powell   \n",
       "\n",
       "        phone_num            street         city    zip_code     long      lat  \n",
       "0  1-570-236-7033          new road     kilcoole  12926-3874  81.1496 -37.3159  \n",
       "1  1-570-236-7033         Lovers Ln     kilcoole  12926-3874  81.1496 -37.3159  \n",
       "2  1-567-094-1345        Frances Ct      Cullman  29567-1452 -30.1310  40.3467  \n",
       "3  1-765-789-6734  Hunters Creek Dr  San Antonio  98234-1734 -20.1310  50.3467  \n",
       "4  1-956-001-1945          adams St  san Antonio  80796-1234 -40.1310  40.3467  "
      ]
     },
     "metadata": {},
     "output_type": "display_data"
    },
    {
     "name": "stdout",
     "output_type": "stream",
     "text": [
      "\n",
      "-------------------------------INFO--------------------------------------\n",
      "<class 'pandas.core.frame.DataFrame'>\n",
      "RangeIndex: 10 entries, 0 to 9\n",
      "Data columns (total 11 columns):\n",
      " #   Column      Non-Null Count  Dtype  \n",
      "---  ------      --------------  -----  \n",
      " 0   user_id     10 non-null     int64  \n",
      " 1   email       10 non-null     object \n",
      " 2   username    10 non-null     object \n",
      " 3   first_name  10 non-null     object \n",
      " 4   last_name   10 non-null     object \n",
      " 5   phone_num   10 non-null     object \n",
      " 6   street      10 non-null     object \n",
      " 7   city        10 non-null     object \n",
      " 8   zip_code    10 non-null     object \n",
      " 9   long        10 non-null     float64\n",
      " 10  lat         10 non-null     float64\n",
      "dtypes: float64(2), int64(1), object(8)\n",
      "memory usage: 1012.0+ bytes\n"
     ]
    },
    {
     "data": {
      "text/plain": [
       "None"
      ]
     },
     "metadata": {},
     "output_type": "display_data"
    },
    {
     "name": "stdout",
     "output_type": "stream",
     "text": [
      "\n",
      "-------------------------------Describe----------------------------------\n"
     ]
    },
    {
     "data": {
      "text/html": [
       "<div>\n",
       "<style scoped>\n",
       "    .dataframe tbody tr th:only-of-type {\n",
       "        vertical-align: middle;\n",
       "    }\n",
       "\n",
       "    .dataframe tbody tr th {\n",
       "        vertical-align: top;\n",
       "    }\n",
       "\n",
       "    .dataframe thead th {\n",
       "        text-align: right;\n",
       "    }\n",
       "</style>\n",
       "<table border=\"1\" class=\"dataframe\">\n",
       "  <thead>\n",
       "    <tr style=\"text-align: right;\">\n",
       "      <th></th>\n",
       "      <th>user_id</th>\n",
       "      <th>long</th>\n",
       "      <th>lat</th>\n",
       "    </tr>\n",
       "  </thead>\n",
       "  <tbody>\n",
       "    <tr>\n",
       "      <th>count</th>\n",
       "      <td>10.00000</td>\n",
       "      <td>10.000000</td>\n",
       "      <td>10.000000</td>\n",
       "    </tr>\n",
       "    <tr>\n",
       "      <th>mean</th>\n",
       "      <td>5.50000</td>\n",
       "      <td>9.250758</td>\n",
       "      <td>20.763964</td>\n",
       "    </tr>\n",
       "    <tr>\n",
       "      <th>std</th>\n",
       "      <td>3.02765</td>\n",
       "      <td>43.122361</td>\n",
       "      <td>33.061214</td>\n",
       "    </tr>\n",
       "    <tr>\n",
       "      <th>min</th>\n",
       "      <td>1.00000</td>\n",
       "      <td>-40.131000</td>\n",
       "      <td>-37.315900</td>\n",
       "    </tr>\n",
       "    <tr>\n",
       "      <th>25%</th>\n",
       "      <td>3.25000</td>\n",
       "      <td>-20.441814</td>\n",
       "      <td>12.801125</td>\n",
       "    </tr>\n",
       "    <tr>\n",
       "      <th>50%</th>\n",
       "      <td>5.50000</td>\n",
       "      <td>-0.018500</td>\n",
       "      <td>35.186220</td>\n",
       "    </tr>\n",
       "    <tr>\n",
       "      <th>75%</th>\n",
       "      <td>7.75000</td>\n",
       "      <td>20.616900</td>\n",
       "      <td>40.346700</td>\n",
       "    </tr>\n",
       "    <tr>\n",
       "      <th>max</th>\n",
       "      <td>10.00000</td>\n",
       "      <td>81.149600</td>\n",
       "      <td>50.346700</td>\n",
       "    </tr>\n",
       "  </tbody>\n",
       "</table>\n",
       "</div>"
      ],
      "text/plain": [
       "        user_id       long        lat\n",
       "count  10.00000  10.000000  10.000000\n",
       "mean    5.50000   9.250758  20.763964\n",
       "std     3.02765  43.122361  33.061214\n",
       "min     1.00000 -40.131000 -37.315900\n",
       "25%     3.25000 -20.441814  12.801125\n",
       "50%     5.50000  -0.018500  35.186220\n",
       "75%     7.75000  20.616900  40.346700\n",
       "max    10.00000  81.149600  50.346700"
      ]
     },
     "metadata": {},
     "output_type": "display_data"
    },
    {
     "name": "stdout",
     "output_type": "stream",
     "text": [
      "\n",
      "-------------------------------Columns-----------------------------------\n"
     ]
    },
    {
     "data": {
      "text/plain": [
       "Index(['user_id', 'email', 'username', 'first_name', 'last_name', 'phone_num',\n",
       "       'street', 'city', 'zip_code', 'long', 'lat'],\n",
       "      dtype='object')"
      ]
     },
     "metadata": {},
     "output_type": "display_data"
    },
    {
     "name": "stdout",
     "output_type": "stream",
     "text": [
      "\n",
      "----------------------------Missing Values-------------------------------\n"
     ]
    },
    {
     "data": {
      "text/plain": [
       "user_id       0\n",
       "email         0\n",
       "username      0\n",
       "first_name    0\n",
       "last_name     0\n",
       "phone_num     0\n",
       "street        0\n",
       "city          0\n",
       "zip_code      0\n",
       "long          0\n",
       "lat           0\n",
       "dtype: int64"
      ]
     },
     "metadata": {},
     "output_type": "display_data"
    },
    {
     "name": "stdout",
     "output_type": "stream",
     "text": [
      "\n",
      "--------------------------Shape Of Data---------------------------------\n"
     ]
    },
    {
     "data": {
      "text/plain": [
       "(10, 11)"
      ]
     },
     "metadata": {},
     "output_type": "display_data"
    },
    {
     "name": "stdout",
     "output_type": "stream",
     "text": [
      "=================================Sales Data=================================\n",
      "-------------------------------TOP 5 RECORDS-----------------------------\n"
     ]
    },
    {
     "data": {
      "text/html": [
       "<div>\n",
       "<style scoped>\n",
       "    .dataframe tbody tr th:only-of-type {\n",
       "        vertical-align: middle;\n",
       "    }\n",
       "\n",
       "    .dataframe tbody tr th {\n",
       "        vertical-align: top;\n",
       "    }\n",
       "\n",
       "    .dataframe thead th {\n",
       "        text-align: right;\n",
       "    }\n",
       "</style>\n",
       "<table border=\"1\" class=\"dataframe\">\n",
       "  <thead>\n",
       "    <tr style=\"text-align: right;\">\n",
       "      <th></th>\n",
       "      <th>sales_id</th>\n",
       "      <th>product_id</th>\n",
       "      <th>category_id</th>\n",
       "      <th>cart_id</th>\n",
       "      <th>user_id</th>\n",
       "      <th>quantity_purchased</th>\n",
       "      <th>product_total_price</th>\n",
       "      <th>rating_count</th>\n",
       "      <th>rating_rate</th>\n",
       "      <th>total_cart_price</th>\n",
       "      <th>distinct_products_in_cart</th>\n",
       "    </tr>\n",
       "  </thead>\n",
       "  <tbody>\n",
       "    <tr>\n",
       "      <th>0</th>\n",
       "      <td>1</td>\n",
       "      <td>1</td>\n",
       "      <td>3</td>\n",
       "      <td>1</td>\n",
       "      <td>1</td>\n",
       "      <td>4</td>\n",
       "      <td>439.80</td>\n",
       "      <td>120</td>\n",
       "      <td>3.9</td>\n",
       "      <td>798.04</td>\n",
       "      <td>3</td>\n",
       "    </tr>\n",
       "    <tr>\n",
       "      <th>1</th>\n",
       "      <td>2</td>\n",
       "      <td>2</td>\n",
       "      <td>3</td>\n",
       "      <td>1</td>\n",
       "      <td>1</td>\n",
       "      <td>1</td>\n",
       "      <td>22.30</td>\n",
       "      <td>259</td>\n",
       "      <td>4.1</td>\n",
       "      <td>798.04</td>\n",
       "      <td>3</td>\n",
       "    </tr>\n",
       "    <tr>\n",
       "      <th>2</th>\n",
       "      <td>3</td>\n",
       "      <td>3</td>\n",
       "      <td>3</td>\n",
       "      <td>1</td>\n",
       "      <td>1</td>\n",
       "      <td>6</td>\n",
       "      <td>335.94</td>\n",
       "      <td>500</td>\n",
       "      <td>4.7</td>\n",
       "      <td>798.04</td>\n",
       "      <td>3</td>\n",
       "    </tr>\n",
       "    <tr>\n",
       "      <th>3</th>\n",
       "      <td>4</td>\n",
       "      <td>2</td>\n",
       "      <td>3</td>\n",
       "      <td>2</td>\n",
       "      <td>1</td>\n",
       "      <td>4</td>\n",
       "      <td>89.20</td>\n",
       "      <td>259</td>\n",
       "      <td>4.1</td>\n",
       "      <td>2578.70</td>\n",
       "      <td>3</td>\n",
       "    </tr>\n",
       "    <tr>\n",
       "      <th>4</th>\n",
       "      <td>5</td>\n",
       "      <td>1</td>\n",
       "      <td>3</td>\n",
       "      <td>2</td>\n",
       "      <td>1</td>\n",
       "      <td>10</td>\n",
       "      <td>1099.50</td>\n",
       "      <td>120</td>\n",
       "      <td>3.9</td>\n",
       "      <td>2578.70</td>\n",
       "      <td>3</td>\n",
       "    </tr>\n",
       "  </tbody>\n",
       "</table>\n",
       "</div>"
      ],
      "text/plain": [
       "   sales_id  product_id  category_id  cart_id  user_id  quantity_purchased  \\\n",
       "0         1           1            3        1        1                   4   \n",
       "1         2           2            3        1        1                   1   \n",
       "2         3           3            3        1        1                   6   \n",
       "3         4           2            3        2        1                   4   \n",
       "4         5           1            3        2        1                  10   \n",
       "\n",
       "   product_total_price  rating_count  rating_rate  total_cart_price  \\\n",
       "0               439.80           120          3.9            798.04   \n",
       "1                22.30           259          4.1            798.04   \n",
       "2               335.94           500          4.7            798.04   \n",
       "3                89.20           259          4.1           2578.70   \n",
       "4              1099.50           120          3.9           2578.70   \n",
       "\n",
       "   distinct_products_in_cart  \n",
       "0                          3  \n",
       "1                          3  \n",
       "2                          3  \n",
       "3                          3  \n",
       "4                          3  "
      ]
     },
     "metadata": {},
     "output_type": "display_data"
    },
    {
     "name": "stdout",
     "output_type": "stream",
     "text": [
      "\n",
      "-------------------------------INFO--------------------------------------\n",
      "<class 'pandas.core.frame.DataFrame'>\n",
      "RangeIndex: 14 entries, 0 to 13\n",
      "Data columns (total 11 columns):\n",
      " #   Column                     Non-Null Count  Dtype  \n",
      "---  ------                     --------------  -----  \n",
      " 0   sales_id                   14 non-null     int64  \n",
      " 1   product_id                 14 non-null     int64  \n",
      " 2   category_id                14 non-null     int64  \n",
      " 3   cart_id                    14 non-null     int64  \n",
      " 4   user_id                    14 non-null     int64  \n",
      " 5   quantity_purchased         14 non-null     int64  \n",
      " 6   product_total_price        14 non-null     float64\n",
      " 7   rating_count               14 non-null     int64  \n",
      " 8   rating_rate                14 non-null     float64\n",
      " 9   total_cart_price           14 non-null     float64\n",
      " 10  distinct_products_in_cart  14 non-null     int64  \n",
      "dtypes: float64(3), int64(8)\n",
      "memory usage: 1.3 KB\n"
     ]
    },
    {
     "data": {
      "text/plain": [
       "None"
      ]
     },
     "metadata": {},
     "output_type": "display_data"
    },
    {
     "name": "stdout",
     "output_type": "stream",
     "text": [
      "\n",
      "-------------------------------Describe----------------------------------\n"
     ]
    },
    {
     "data": {
      "text/html": [
       "<div>\n",
       "<style scoped>\n",
       "    .dataframe tbody tr th:only-of-type {\n",
       "        vertical-align: middle;\n",
       "    }\n",
       "\n",
       "    .dataframe tbody tr th {\n",
       "        vertical-align: top;\n",
       "    }\n",
       "\n",
       "    .dataframe thead th {\n",
       "        text-align: right;\n",
       "    }\n",
       "</style>\n",
       "<table border=\"1\" class=\"dataframe\">\n",
       "  <thead>\n",
       "    <tr style=\"text-align: right;\">\n",
       "      <th></th>\n",
       "      <th>sales_id</th>\n",
       "      <th>product_id</th>\n",
       "      <th>category_id</th>\n",
       "      <th>cart_id</th>\n",
       "      <th>user_id</th>\n",
       "      <th>quantity_purchased</th>\n",
       "      <th>product_total_price</th>\n",
       "      <th>rating_count</th>\n",
       "      <th>rating_rate</th>\n",
       "      <th>total_cart_price</th>\n",
       "      <th>distinct_products_in_cart</th>\n",
       "    </tr>\n",
       "  </thead>\n",
       "  <tbody>\n",
       "    <tr>\n",
       "      <th>count</th>\n",
       "      <td>14.0000</td>\n",
       "      <td>14.000000</td>\n",
       "      <td>14.000000</td>\n",
       "      <td>14.000000</td>\n",
       "      <td>14.000000</td>\n",
       "      <td>14.000000</td>\n",
       "      <td>14.000000</td>\n",
       "      <td>14.000000</td>\n",
       "      <td>14.000000</td>\n",
       "      <td>14.000000</td>\n",
       "      <td>14.000000</td>\n",
       "    </tr>\n",
       "    <tr>\n",
       "      <th>mean</th>\n",
       "      <td>7.5000</td>\n",
       "      <td>5.714286</td>\n",
       "      <td>2.428571</td>\n",
       "      <td>3.428571</td>\n",
       "      <td>2.500000</td>\n",
       "      <td>3.000000</td>\n",
       "      <td>335.090714</td>\n",
       "      <td>257.214286</td>\n",
       "      <td>3.835714</td>\n",
       "      <td>879.259286</td>\n",
       "      <td>2.285714</td>\n",
       "    </tr>\n",
       "    <tr>\n",
       "      <th>std</th>\n",
       "      <td>4.1833</td>\n",
       "      <td>5.195095</td>\n",
       "      <td>0.937614</td>\n",
       "      <td>2.064882</td>\n",
       "      <td>1.951331</td>\n",
       "      <td>2.541956</td>\n",
       "      <td>420.111207</td>\n",
       "      <td>147.945509</td>\n",
       "      <td>0.821450</td>\n",
       "      <td>961.534347</td>\n",
       "      <td>0.726273</td>\n",
       "    </tr>\n",
       "    <tr>\n",
       "      <th>min</th>\n",
       "      <td>1.0000</td>\n",
       "      <td>1.000000</td>\n",
       "      <td>1.000000</td>\n",
       "      <td>1.000000</td>\n",
       "      <td>1.000000</td>\n",
       "      <td>1.000000</td>\n",
       "      <td>9.850000</td>\n",
       "      <td>100.000000</td>\n",
       "      <td>1.900000</td>\n",
       "      <td>9.850000</td>\n",
       "      <td>1.000000</td>\n",
       "    </tr>\n",
       "    <tr>\n",
       "      <th>25%</th>\n",
       "      <td>4.2500</td>\n",
       "      <td>1.250000</td>\n",
       "      <td>2.000000</td>\n",
       "      <td>2.000000</td>\n",
       "      <td>1.000000</td>\n",
       "      <td>1.000000</td>\n",
       "      <td>32.725000</td>\n",
       "      <td>120.000000</td>\n",
       "      <td>3.450000</td>\n",
       "      <td>283.900000</td>\n",
       "      <td>2.000000</td>\n",
       "    </tr>\n",
       "    <tr>\n",
       "      <th>50%</th>\n",
       "      <td>7.5000</td>\n",
       "      <td>4.000000</td>\n",
       "      <td>3.000000</td>\n",
       "      <td>3.000000</td>\n",
       "      <td>2.000000</td>\n",
       "      <td>2.000000</td>\n",
       "      <td>218.950000</td>\n",
       "      <td>231.000000</td>\n",
       "      <td>3.900000</td>\n",
       "      <td>560.000000</td>\n",
       "      <td>2.000000</td>\n",
       "    </tr>\n",
       "    <tr>\n",
       "      <th>75%</th>\n",
       "      <td>10.7500</td>\n",
       "      <td>8.750000</td>\n",
       "      <td>3.000000</td>\n",
       "      <td>5.000000</td>\n",
       "      <td>3.000000</td>\n",
       "      <td>4.000000</td>\n",
       "      <td>415.350000</td>\n",
       "      <td>400.000000</td>\n",
       "      <td>4.475000</td>\n",
       "      <td>798.040000</td>\n",
       "      <td>3.000000</td>\n",
       "    </tr>\n",
       "    <tr>\n",
       "      <th>max</th>\n",
       "      <td>14.0000</td>\n",
       "      <td>18.000000</td>\n",
       "      <td>4.000000</td>\n",
       "      <td>7.000000</td>\n",
       "      <td>8.000000</td>\n",
       "      <td>10.000000</td>\n",
       "      <td>1390.000000</td>\n",
       "      <td>500.000000</td>\n",
       "      <td>4.800000</td>\n",
       "      <td>2578.700000</td>\n",
       "      <td>3.000000</td>\n",
       "    </tr>\n",
       "  </tbody>\n",
       "</table>\n",
       "</div>"
      ],
      "text/plain": [
       "       sales_id  product_id  category_id    cart_id    user_id  \\\n",
       "count   14.0000   14.000000    14.000000  14.000000  14.000000   \n",
       "mean     7.5000    5.714286     2.428571   3.428571   2.500000   \n",
       "std      4.1833    5.195095     0.937614   2.064882   1.951331   \n",
       "min      1.0000    1.000000     1.000000   1.000000   1.000000   \n",
       "25%      4.2500    1.250000     2.000000   2.000000   1.000000   \n",
       "50%      7.5000    4.000000     3.000000   3.000000   2.000000   \n",
       "75%     10.7500    8.750000     3.000000   5.000000   3.000000   \n",
       "max     14.0000   18.000000     4.000000   7.000000   8.000000   \n",
       "\n",
       "       quantity_purchased  product_total_price  rating_count  rating_rate  \\\n",
       "count           14.000000            14.000000     14.000000    14.000000   \n",
       "mean             3.000000           335.090714    257.214286     3.835714   \n",
       "std              2.541956           420.111207    147.945509     0.821450   \n",
       "min              1.000000             9.850000    100.000000     1.900000   \n",
       "25%              1.000000            32.725000    120.000000     3.450000   \n",
       "50%              2.000000           218.950000    231.000000     3.900000   \n",
       "75%              4.000000           415.350000    400.000000     4.475000   \n",
       "max             10.000000          1390.000000    500.000000     4.800000   \n",
       "\n",
       "       total_cart_price  distinct_products_in_cart  \n",
       "count         14.000000                  14.000000  \n",
       "mean         879.259286                   2.285714  \n",
       "std          961.534347                   0.726273  \n",
       "min            9.850000                   1.000000  \n",
       "25%          283.900000                   2.000000  \n",
       "50%          560.000000                   2.000000  \n",
       "75%          798.040000                   3.000000  \n",
       "max         2578.700000                   3.000000  "
      ]
     },
     "metadata": {},
     "output_type": "display_data"
    },
    {
     "name": "stdout",
     "output_type": "stream",
     "text": [
      "\n",
      "-------------------------------Columns-----------------------------------\n"
     ]
    },
    {
     "data": {
      "text/plain": [
       "Index(['sales_id', 'product_id', 'category_id', 'cart_id', 'user_id',\n",
       "       'quantity_purchased', 'product_total_price', 'rating_count',\n",
       "       'rating_rate', 'total_cart_price', 'distinct_products_in_cart'],\n",
       "      dtype='object')"
      ]
     },
     "metadata": {},
     "output_type": "display_data"
    },
    {
     "name": "stdout",
     "output_type": "stream",
     "text": [
      "\n",
      "----------------------------Missing Values-------------------------------\n"
     ]
    },
    {
     "data": {
      "text/plain": [
       "sales_id                     0\n",
       "product_id                   0\n",
       "category_id                  0\n",
       "cart_id                      0\n",
       "user_id                      0\n",
       "quantity_purchased           0\n",
       "product_total_price          0\n",
       "rating_count                 0\n",
       "rating_rate                  0\n",
       "total_cart_price             0\n",
       "distinct_products_in_cart    0\n",
       "dtype: int64"
      ]
     },
     "metadata": {},
     "output_type": "display_data"
    },
    {
     "name": "stdout",
     "output_type": "stream",
     "text": [
      "\n",
      "--------------------------Shape Of Data---------------------------------\n"
     ]
    },
    {
     "data": {
      "text/plain": [
       "(14, 11)"
      ]
     },
     "metadata": {},
     "output_type": "display_data"
    }
   ],
   "source": [
    "# Exploring the carts dataset\n",
    "print(\"=================================Carts Data=================================\")\n",
    "eda(carts)\n",
    "\n",
    "# Exploring the products dataset\n",
    "print(\"=================================Products Data=================================\")\n",
    "eda(products)\n",
    "\n",
    "# Exploring the categories dataset\n",
    "print(\"=================================Categories=================================\")\n",
    "eda(categories)\n",
    "\n",
    "# Exploring the users dataset\n",
    "print(\"=================================Users Data=================================\")\n",
    "eda(users)\n",
    "\n",
    "# Exploring the Sales Fact Table dataset\n",
    "print(\"=================================Sales Data=================================\")\n",
    "eda(sales)"
   ]
  },
  {
   "cell_type": "markdown",
   "metadata": {},
   "source": [
    "**Key Observations for Products:**\n",
    "- No missing values detected.\n",
    "- The `price` column ranges from $7.95 to $999.99.\n",
    "- The `rating` column needs further processing as it's stored as a dictionary.\n"
   ]
  },
  {
   "cell_type": "markdown",
   "metadata": {},
   "source": [
    "### Data Cleaning & Transformation Overview\n",
    "- Removed unnecessary columns like `__v` from the raw datasets.\n",
    "- Flattened nested JSON structures such as `rating` in products and `address` in users.\n",
    "- Standardized column names to match the database schema.\n"
   ]
  },
  {
   "cell_type": "code",
   "execution_count": 6,
   "metadata": {},
   "outputs": [
    {
     "name": "stdout",
     "output_type": "stream",
     "text": [
      "\n",
      "Final Check for Products\n",
      "product_id      0\n",
      "price           0\n",
      "product_name    0\n",
      "description     0\n",
      "image_url       0\n",
      "dtype: int64\n",
      "product_id        int64\n",
      "price           float64\n",
      "product_name     object\n",
      "description      object\n",
      "image_url        object\n",
      "dtype: object\n",
      "\n",
      "Final Check for Categories\n",
      "category_id      0\n",
      "category_name    0\n",
      "dtype: int64\n",
      "category_id       int64\n",
      "category_name    object\n",
      "dtype: object\n",
      "\n",
      "Final Check for Carts\n",
      "cart_id      0\n",
      "cart_date    0\n",
      "dtype: int64\n",
      "cart_id       int64\n",
      "cart_date    object\n",
      "dtype: object\n",
      "\n",
      "Final Check for Users\n",
      "user_id       0\n",
      "email         0\n",
      "username      0\n",
      "first_name    0\n",
      "last_name     0\n",
      "phone_num     0\n",
      "street        0\n",
      "city          0\n",
      "zip_code      0\n",
      "long          0\n",
      "lat           0\n",
      "dtype: int64\n",
      "user_id         int64\n",
      "email          object\n",
      "username       object\n",
      "first_name     object\n",
      "last_name      object\n",
      "phone_num      object\n",
      "street         object\n",
      "city           object\n",
      "zip_code       object\n",
      "long          float64\n",
      "lat           float64\n",
      "dtype: object\n"
     ]
    }
   ],
   "source": [
    "# Final check: Ensure no missing values and data types are correct\n",
    "for df_name, df in [(\"Products\", products), (\"Categories\", categories), (\"Carts\", carts), (\"Users\", users)]:\n",
    "    print(f\"\\nFinal Check for {df_name}\")\n",
    "    print(df.isnull().sum())\n",
    "    print(df.dtypes)"
   ]
  }
 ],
 "metadata": {
  "kernelspec": {
   "display_name": "Python 3",
   "language": "python",
   "name": "python3"
  },
  "language_info": {
   "codemirror_mode": {
    "name": "ipython",
    "version": 3
   },
   "file_extension": ".py",
   "mimetype": "text/x-python",
   "name": "python",
   "nbconvert_exporter": "python",
   "pygments_lexer": "ipython3",
   "version": "3.12.7"
  }
 },
 "nbformat": 4,
 "nbformat_minor": 2
}
